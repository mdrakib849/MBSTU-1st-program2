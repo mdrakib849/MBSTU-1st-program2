{
  "nbformat": 4,
  "nbformat_minor": 0,
  "metadata": {
    "colab": {
      "provenance": [],
      "authorship_tag": "ABX9TyOiXLIUyknz37IRLPIL0juW",
      "include_colab_link": true
    },
    "kernelspec": {
      "name": "python3",
      "display_name": "Python 3"
    },
    "language_info": {
      "name": "python"
    }
  },
  "cells": [
    {
      "cell_type": "markdown",
      "metadata": {
        "id": "view-in-github",
        "colab_type": "text"
      },
      "source": [
        "<a href=\"https://colab.research.google.com/github/mdrakib849/MBSTU-1st-program2/blob/main/xyz.ipynb\" target=\"_parent\"><img src=\"https://colab.research.google.com/assets/colab-badge.svg\" alt=\"Open In Colab\"/></a>"
      ]
    },
    {
      "cell_type": "code",
      "execution_count": 1,
      "metadata": {
        "colab": {
          "base_uri": "https://localhost:8080/"
        },
        "id": "5OLyuD2uml_s",
        "outputId": "e364d88a-1ffe-48cb-ce3f-692debe19323"
      },
      "outputs": [
        {
          "output_type": "stream",
          "name": "stdout",
          "text": [
            "130\n"
          ]
        }
      ],
      "source": [
        "h=10\n",
        "e=120\n",
        "llo=h+e\n",
        "print(llo)"
      ]
    },
    {
      "cell_type": "code",
      "source": [
        "fristName=input(\"What is your 1st name=\")\n",
        "lastName=input(\"What is your 2st name=\")\n",
        "fullName=fristName+lastName\n",
        "print(fristName,\"+\",lastName,\"=\",fullName)"
      ],
      "metadata": {
        "colab": {
          "base_uri": "https://localhost:8080/"
        },
        "id": "-R5KlBrInEbJ",
        "outputId": "dc79ba57-0e85-484d-f585-72caeb63b6ce"
      },
      "execution_count": 2,
      "outputs": [
        {
          "output_type": "stream",
          "name": "stdout",
          "text": [
            "What is your 1st name=sobuj\n",
            "What is your 2st name=aeby\n",
            "sobuj + aeby = sobujaeby\n"
          ]
        }
      ]
    },
    {
      "cell_type": "code",
      "source": [
        "from google.colab import drive\n",
        "drive.mount('/content/drive')"
      ],
      "metadata": {
        "id": "cSYhJUPioJX5"
      },
      "execution_count": null,
      "outputs": []
    },
    {
      "cell_type": "code",
      "source": [
        "x, y, z = 100, 200, 300\n",
        "xy = x+y\n",
        "yz = xy-z\n",
        "print(yz)\n"
      ],
      "metadata": {
        "colab": {
          "base_uri": "https://localhost:8080/"
        },
        "id": "wWlMBM4RvwH3",
        "outputId": "69e2203c-37e5-4cf1-8741-aa2896240de1"
      },
      "execution_count": 3,
      "outputs": [
        {
          "output_type": "stream",
          "name": "stdout",
          "text": [
            "0\n"
          ]
        }
      ]
    }
  ]
}